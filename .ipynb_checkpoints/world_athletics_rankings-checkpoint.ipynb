{
 "cells": [
  {
   "cell_type": "code",
   "execution_count": 1,
   "metadata": {},
   "outputs": [],
   "source": [
    "import pandas as pd\n",
    "import numpy as np\n",
    "from urllib.request import Request, urlopen\n",
    "from bs4 import BeautifulSoup"
   ]
  },
  {
   "cell_type": "code",
   "execution_count": 99,
   "metadata": {
    "scrolled": true
   },
   "outputs": [
    {
     "name": "stdout",
     "output_type": "stream",
     "text": [
      "Score of 45th athlete in the trimmed list is 1123\n"
     ]
    }
   ],
   "source": [
    "# WORLD RANKINGS DROP ROWS FOR >3 PER COUNTRY\n",
    "url = 'https://www.worldathletics.org/world-rankings/3000msc/men?regionType=world&page=1&rankDate=2021-04-20&limitByCountry=0'\n",
    "\n",
    "req = Request(url, headers={'User-Agent': 'Mozilla/5.0'})\n",
    "webpage = urlopen(req).read()\n",
    "\n",
    "soup = BeautifulSoup(webpage)\n",
    "\n",
    "dfs = pd.read_html(webpage)\n",
    "dfs_copy = [i.copy(deep=False) for i in dfs][0]\n",
    "\n",
    "# drop duplicates after third nation in descending order\n",
    "df_trimmed = dfs_copy.groupby('Nat').head(3)\n",
    "df_trimmed.index = np.arange(1, len(df_trimmed) + 1)\n",
    "\n",
    "# return the Score of the 45th place athlete on the trimmed list\n",
    "print('Score of 45th athlete in the trimmed list is ' + str(df_trimmed.iloc[45]['Score']))"
   ]
  },
  {
   "cell_type": "code",
   "execution_count": null,
   "metadata": {},
   "outputs": [],
   "source": []
  }
 ],
 "metadata": {
  "kernelspec": {
   "display_name": "Python 3",
   "language": "python",
   "name": "python3"
  },
  "language_info": {
   "codemirror_mode": {
    "name": "ipython",
    "version": 3
   },
   "file_extension": ".py",
   "mimetype": "text/x-python",
   "name": "python",
   "nbconvert_exporter": "python",
   "pygments_lexer": "ipython3",
   "version": "3.6.8"
  }
 },
 "nbformat": 4,
 "nbformat_minor": 2
}
