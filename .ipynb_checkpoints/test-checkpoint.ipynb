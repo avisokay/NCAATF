{
 "cells": [
  {
   "cell_type": "code",
   "execution_count": 1,
   "id": "5e0b4c2d",
   "metadata": {},
   "outputs": [],
   "source": [
    "import numpy as np\n",
    "import matplotlib.pyplot as plt\n"
   ]
  },
  {
   "cell_type": "code",
   "execution_count": 12,
   "id": "69c7dd58",
   "metadata": {},
   "outputs": [],
   "source": [
    "n = 1\n",
    "dim = 10\n",
    "scale = 1\n",
    "kappa = 1"
   ]
  },
  {
   "cell_type": "code",
   "execution_count": 13,
   "id": "304326ca",
   "metadata": {},
   "outputs": [],
   "source": [
    "temp = np.zeros(dim)"
   ]
  },
  {
   "cell_type": "code",
   "execution_count": 25,
   "id": "75abf383",
   "metadata": {},
   "outputs": [
    {
     "data": {
      "text/plain": [
       "-0.6322885061454551"
      ]
     },
     "execution_count": 25,
     "metadata": {},
     "output_type": "execute_result"
    }
   ],
   "source": [
    "np.random.uniform(low = -scale, high = scale)"
   ]
  },
  {
   "cell_type": "code",
   "execution_count": null,
   "id": "5bf0e0f2",
   "metadata": {},
   "outputs": [],
   "source": []
  },
  {
   "cell_type": "code",
   "execution_count": 16,
   "id": "b9abb8e2",
   "metadata": {},
   "outputs": [
    {
     "data": {
      "text/plain": [
       "array([0., 0., 0., 0., 0., 0., 0., 0., 0.])"
      ]
     },
     "execution_count": 16,
     "metadata": {},
     "output_type": "execute_result"
    }
   ],
   "source": [
    "temp[0:(dim-1)] = [np.random.uniform(low = -scale, high = scale, size = 1), np.random.uniform(low = -scale, high = scale, size = 1)]"
   ]
  },
  {
   "cell_type": "code",
   "execution_count": 10,
   "id": "412ac56d",
   "metadata": {},
   "outputs": [
    {
     "data": {
      "text/plain": [
       "array([0., 0., 0., 0., 0., 0., 0., 0., 0., 0.])"
      ]
     },
     "execution_count": 10,
     "metadata": {},
     "output_type": "execute_result"
    }
   ],
   "source": [
    "temp = np.zeros(dim)\n",
    "temp[0:(dim-1)] = [np.random.uniform(low = -scale, high = scale, size = 1), np.random.uniform(low = -scale, high = scale, size = 1)]\n",
    "temp[-1] = np.sqrt(1/kappa + np.sum(temp[0:(dim-1)]**2))"
   ]
  },
  {
   "cell_type": "code",
   "execution_count": 2,
   "id": "c8cf7a39",
   "metadata": {},
   "outputs": [],
   "source": [
    "def Generate_Hyperbolic(n, dim, scale, kappa):\n",
    "    def genHyperbolic(x):\n",
    "        temp = np.zeros(dim)\n",
    "        temp[0:(dim-1)] = [np.random.uniform(low = -scale, high = scale, size = 1), np.random.uniform(low = -scale, high = scale, size = 1)]\n",
    "        temp[-1] = np.sqrt(1/kappa + np.sum(temp[0:(dim-1)]**2))\n",
    "        return(temp)"
   ]
  },
  {
   "cell_type": "code",
   "execution_count": 1,
   "id": "55b4eac6",
   "metadata": {},
   "outputs": [],
   "source": [
    "import pandas as pd"
   ]
  },
  {
   "cell_type": "code",
   "execution_count": 5,
   "id": "134203b8",
   "metadata": {},
   "outputs": [],
   "source": [
    "d = {'Athlete_A': [70,70,70], 'Athlete_B': [70,80,75], 'Athlete_C':[25,90,90]}\n",
    "df = pd.DataFrame(data=d, index=['Race_1', 'Race_2', 'Race_3(full)'])"
   ]
  },
  {
   "cell_type": "code",
   "execution_count": 6,
   "id": "3a741b4c",
   "metadata": {},
   "outputs": [
    {
     "data": {
      "text/html": [
       "<div>\n",
       "<style scoped>\n",
       "    .dataframe tbody tr th:only-of-type {\n",
       "        vertical-align: middle;\n",
       "    }\n",
       "\n",
       "    .dataframe tbody tr th {\n",
       "        vertical-align: top;\n",
       "    }\n",
       "\n",
       "    .dataframe thead th {\n",
       "        text-align: right;\n",
       "    }\n",
       "</style>\n",
       "<table border=\"1\" class=\"dataframe\">\n",
       "  <thead>\n",
       "    <tr style=\"text-align: right;\">\n",
       "      <th></th>\n",
       "      <th>Athlete_A</th>\n",
       "      <th>Athlete_B</th>\n",
       "      <th>Athlete_C</th>\n",
       "    </tr>\n",
       "  </thead>\n",
       "  <tbody>\n",
       "    <tr>\n",
       "      <th>Race_1</th>\n",
       "      <td>70</td>\n",
       "      <td>70</td>\n",
       "      <td>25</td>\n",
       "    </tr>\n",
       "    <tr>\n",
       "      <th>Race_2</th>\n",
       "      <td>70</td>\n",
       "      <td>80</td>\n",
       "      <td>90</td>\n",
       "    </tr>\n",
       "    <tr>\n",
       "      <th>Race_3(full)</th>\n",
       "      <td>70</td>\n",
       "      <td>75</td>\n",
       "      <td>90</td>\n",
       "    </tr>\n",
       "  </tbody>\n",
       "</table>\n",
       "</div>"
      ],
      "text/plain": [
       "              Athlete_A  Athlete_B  Athlete_C\n",
       "Race_1               70         70         25\n",
       "Race_2               70         80         90\n",
       "Race_3(full)         70         75         90"
      ]
     },
     "execution_count": 6,
     "metadata": {},
     "output_type": "execute_result"
    }
   ],
   "source": [
    "df"
   ]
  },
  {
   "cell_type": "code",
   "execution_count": 16,
   "id": "3880122b",
   "metadata": {},
   "outputs": [],
   "source": [
    "import numpy as np\n",
    "import matplotlib.pyplot as plt"
   ]
  },
  {
   "cell_type": "code",
   "execution_count": null,
   "id": "f70ffb34",
   "metadata": {},
   "outputs": [],
   "source": [
    "def pto_rankings(athlete_a = [70,70,70], athlete_b = )"
   ]
  },
  {
   "cell_type": "code",
   "execution_count": 25,
   "id": "671eb256",
   "metadata": {},
   "outputs": [],
   "source": [
    "def draw_sample(size, avg_pt, pt_dev):\n",
    "    result = []\n",
    "    result.append(np.random.uniform(80,10))"
   ]
  },
  {
   "cell_type": "code",
   "execution_count": 30,
   "id": "1780c668",
   "metadata": {},
   "outputs": [],
   "source": [
    "result = []\n",
    "for i in range(1000):\n",
    "    result.append(np.random.normal(80,10))"
   ]
  },
  {
   "cell_type": "code",
   "execution_count": 31,
   "id": "1ee18f5e",
   "metadata": {},
   "outputs": [
    {
     "data": {
      "text/plain": [
       "(array([  1.,   2.,  21.,  95., 225., 303., 222., 104.,  21.,   6.]),\n",
       " array([ 37.20634098,  44.85581693,  52.50529288,  60.15476883,\n",
       "         67.80424479,  75.45372074,  83.10319669,  90.75267264,\n",
       "         98.4021486 , 106.05162455, 113.7011005 ]),\n",
       " <BarContainer object of 10 artists>)"
      ]
     },
     "execution_count": 31,
     "metadata": {},
     "output_type": "execute_result"
    },
    {
     "data": {
      "image/png": "[encoded data removed]",
      "text/plain": [
       "<Figure size 432x288 with 1 Axes>"
      ]
     },
     "metadata": {
      "needs_background": "light"
     },
     "output_type": "display_data"
    }
   ],
   "source": [
    "plt.hist(result)"
   ]
  },
  {
   "cell_type": "code",
   "execution_count": 34,
   "id": "510e38c4",
   "metadata": {},
   "outputs": [],
   "source": [
    "# average athlete races 4 times, min 3 max 7\n",
    "# average performance an 80 with std 10\n",
    "# test counterfactual of rankings based on rewarding 1 full distance race per year, everyone does a full, half do a full, etc.\n",
    "# "
   ]
  },
  {
   "cell_type": "code",
   "execution_count": null,
   "id": "e8cd9cab",
   "metadata": {},
   "outputs": [],
   "source": []
  },
  {
   "cell_type": "code",
   "execution_count": null,
   "id": "b72513ac",
   "metadata": {},
   "outputs": [],
   "source": []
  },
  {
   "cell_type": "code",
   "execution_count": null,
   "id": "0367c85c",
   "metadata": {},
   "outputs": [],
   "source": []
  },
  {
   "cell_type": "code",
   "execution_count": null,
   "id": "cb415459",
   "metadata": {},
   "outputs": [],
   "source": []
  }
 ],
 "metadata": {
  "hide_input": false,
  "kernelspec": {
   "display_name": "Python 3",
   "language": "python",
   "name": "python3"
  },
  "language_info": {
   "codemirror_mode": {
    "name": "ipython",
    "version": 3
   },
   "file_extension": ".py",
   "mimetype": "text/x-python",
   "name": "python",
   "nbconvert_exporter": "python",
   "pygments_lexer": "ipython3",
   "version": "3.8.8"
  }
 },
 "nbformat": 4,
 "nbformat_minor": 5
}
