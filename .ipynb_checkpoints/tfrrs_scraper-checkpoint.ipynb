{
 "cells": [
  {
   "cell_type": "code",
   "execution_count": 1,
   "metadata": {},
   "outputs": [],
   "source": [
    "import pandas as pd\n",
    "import numpy as np\n",
    "import re\n",
    "import datetime\n",
    "from urllib.request import Request, urlopen\n",
    "from bs4 import BeautifulSoup"
   ]
  },
  {
   "cell_type": "markdown",
   "metadata": {},
   "source": [
    "### Intermediate functions I will use to clean the data"
   ]
  },
  {
   "cell_type": "code",
   "execution_count": 3,
   "metadata": {},
   "outputs": [],
   "source": [
    "def add_events(df_list):\n",
    "    '''Event list (alternating sexes for each event).'''\n",
    "    events = ['100', '100', '200', '200', '400', '400', '800', '800', '1500', '1500', '5000', '5000', '10000', '10000', \n",
    "              '100H', '100H', '400H', '400H', '3000S', '3000S', '4x100', '4x100', '4x400', '4x400', \n",
    "              'HJ', 'HJ', 'PV', 'PV', 'LJ', 'LJ', 'TJ', 'TJ', 'SP', 'SP', 'DT', 'DT', 'HT', 'HT', 'JT', 'JT', \n",
    "              'Dec', 'Hep']\n",
    "    for i in range(len(df_list)):\n",
    "        df_list[i]['EVENT'] = events[i]"
   ]
  },
  {
   "cell_type": "code",
   "execution_count": 4,
   "metadata": {},
   "outputs": [],
   "source": [
    "def add_sex(df_list):\n",
    "    '''add Men or Women for sex. Alternating dfs in df_list Men Women. '''\n",
    "    for i in range(len(df_list)):\n",
    "        if i%2 == 0: #Index starting at zero, even number dfs are Men, odd are Women\n",
    "            df_list[i]['SEX'] = 'Men'\n",
    "        else:\n",
    "            df_list[i]['SEX'] = 'Women'"
   ]
  },
  {
   "cell_type": "code",
   "execution_count": 5,
   "metadata": {},
   "outputs": [],
   "source": [
    "def add_division(df_list, division):\n",
    "    '''division from function argument''' \n",
    "    for i in range(len(df_list)):\n",
    "        df_list[i]['DIVISION'] = division"
   ]
  },
  {
   "cell_type": "code",
   "execution_count": 6,
   "metadata": {},
   "outputs": [],
   "source": [
    "def add_champ_year(df_list):\n",
    "    '''last 4 chars from meet date string as champ year'''\n",
    "    for i in range(len(df_list)):\n",
    "        df_list[i]['CHAMP_YEAR'] = [j[-4:] for j in df_list[i]['MEET DATE']]"
   ]
  },
  {
   "cell_type": "code",
   "execution_count": 7,
   "metadata": {},
   "outputs": [],
   "source": [
    "def clean_time(df_list):\n",
    "    '''Takes time in format %M:%S.%f or %S.%f and converts to %M:%S.%f or %S.%f and then creates \n",
    "    new variable for total seconds.'''\n",
    "    \n",
    "    for df in df_list:\n",
    "        if ~df['TIME'].astype(str).str.contains('nan').any():\n",
    "            df['TIME'] = df['TIME'].astype(str) # make sure all times are str format\n",
    "            df['TIME'] = [re.sub(re.compile(r'\\([^)]*\\)'), '', i) for i in df['TIME']]\n",
    "            df['TIME'] = df['TIME'].str.replace('.',':').str.replace('@','')"
   ]
  },
  {
   "cell_type": "code",
   "execution_count": 8,
   "metadata": {},
   "outputs": [],
   "source": [
    "def add_total_seconds(df_list):\n",
    "    '''Takes dfs from df_list that have had TIME cleaned and creates a TIME_SECS column of total seconds'''\n",
    "    for df in df_list:\n",
    "        if ~df['TIME'].astype(str).str.contains('nan').any():\n",
    "            results = []\n",
    "            for time in df['TIME']:\n",
    "                if len(time) <6:\n",
    "                    date_time = datetime.datetime.strptime(time, '%S:%f')\n",
    "                    a_timedelta = date_time - datetime.datetime(1900, 1, 1)\n",
    "                    results.append(a_timedelta.total_seconds())\n",
    "                else:\n",
    "                    date_time = datetime.datetime.strptime(time, \"%M:%S:%f\")\n",
    "                    a_timedelta = date_time - datetime.datetime(1900, 1, 1)\n",
    "                    results.append(a_timedelta.total_seconds())\n",
    "            df['TIME_SECS'] = results"
   ]
  },
  {
   "cell_type": "markdown",
   "metadata": {},
   "source": [
    "### Combine functions into one cleaning function"
   ]
  },
  {
   "cell_type": "code",
   "execution_count": 32,
   "metadata": {},
   "outputs": [],
   "source": [
    "def clean_dfs(df_list, division):\n",
    "    '''Take in list of dataframes, and division(str).\n",
    "       Loop through each df in df_list and add column for:\n",
    "       event, sex, division and championship year.\n",
    "       Reorder rename and drop columns appropriately.\n",
    "       Add TIME_SECS from TIME column for running events.\n",
    "       '''\n",
    "    \n",
    "    add_events(df_list)\n",
    "    add_sex(df_list)\n",
    "    add_division(df_list, division)\n",
    "    add_champ_year(df_list)\n",
    "    \n",
    "    # rename column to POSITION\n",
    "    for i in range(len(df_list)):\n",
    "        df_list[i].rename(columns={'Unnamed: 0' : 'POSITION'}, inplace=True)\n",
    "    \n",
    "    # reorder and drop columns\n",
    "    col_names = ['POSITION', 'CHAMP_YEAR', 'DIVISION', 'EVENT', 'SEX', 'ATHLETE', 'YEAR', 'TEAM', 'TIME', 'TIME_SECS', \n",
    "                 'MARK', 'CONV', 'POINTS', 'MEET', 'MEET DATE']    \n",
    "    for i in range(len(df_list)):\n",
    "        df_list[i] = df_list[i].reindex(columns=col_names)\n",
    "        \n",
    "    \n",
    "    clean_time(df_list)\n",
    "    add_total_seconds(df_list)"
   ]
  },
  {
   "cell_type": "markdown",
   "metadata": {},
   "source": [
    "### Function that loops through list of urls, scrapes and then cleans them."
   ]
  },
  {
   "cell_type": "code",
   "execution_count": 33,
   "metadata": {},
   "outputs": [],
   "source": [
    "def scrape_tfrrs(url_list, division):\n",
    "    '''For each url in the list, clean the dfs and return a concatenated version of all dfs'''\n",
    "    cleaned_dfs = []\n",
    "    for url in url_list:\n",
    "        # scrape url into list of dfs\n",
    "        req = Request(url, headers={'User-Agent': 'Mozilla/5.0'})\n",
    "        webpage = urlopen(req).read()\n",
    "        soup = BeautifulSoup(webpage)\n",
    "        df_list = pd.read_html(webpage)\n",
    "        \n",
    "        # clean each df in df_list\n",
    "        clean_dfs(df_list, 'D1')\n",
    "        \n",
    "        # add each cleaned df to cleaned_dfs list\n",
    "        for i in df_list:\n",
    "            cleaned_dfs.append(i)\n",
    "        \n",
    "    # concatenate cleaned_dfs list into one long dataframe\n",
    "    result = pd.concat(cleaned_dfs)\n",
    "    result.index = range(len(result))\n",
    "    \n",
    "    return result    "
   ]
  },
  {
   "cell_type": "markdown",
   "metadata": {},
   "source": [
    "### TEST"
   ]
  },
  {
   "cell_type": "code",
   "execution_count": 11,
   "metadata": {},
   "outputs": [],
   "source": [
    "d1_urls = ['https://www.tfrrs.org/archived_lists/2568/2019_NCAA_Division_I_Outdoor_Qualifying_(FINAL)/2019/o', \n",
    "           'https://www.tfrrs.org/archived_lists/2279/2018_NCAA_Division_I_Outdoor_Qualifying_(FINAL)/2018/o']"
   ]
  },
  {
   "cell_type": "code",
   "execution_count": 12,
   "metadata": {},
   "outputs": [
    {
     "name": "stdout",
     "output_type": "stream",
     "text": [
      "Wall time: 2min 21s\n"
     ]
    }
   ],
   "source": [
    "%%time \n",
    "d1_scraped = scrape_tfrrs(d1_urls, 'D1')"
   ]
  },
  {
   "cell_type": "code",
   "execution_count": 28,
   "metadata": {
    "scrolled": true
   },
   "outputs": [],
   "source": [
    "d1_scraped.index = range(len(d1_scraped))"
   ]
  },
  {
   "cell_type": "code",
   "execution_count": 30,
   "metadata": {},
   "outputs": [
    {
     "data": {
      "text/html": [
       "<div>\n",
       "<style scoped>\n",
       "    .dataframe tbody tr th:only-of-type {\n",
       "        vertical-align: middle;\n",
       "    }\n",
       "\n",
       "    .dataframe tbody tr th {\n",
       "        vertical-align: top;\n",
       "    }\n",
       "\n",
       "    .dataframe thead th {\n",
       "        text-align: right;\n",
       "    }\n",
       "</style>\n",
       "<table border=\"1\" class=\"dataframe\">\n",
       "  <thead>\n",
       "    <tr style=\"text-align: right;\">\n",
       "      <th></th>\n",
       "      <th>POSITION</th>\n",
       "      <th>CHAMP_YEAR</th>\n",
       "      <th>DIVISION</th>\n",
       "      <th>EVENT</th>\n",
       "      <th>SEX</th>\n",
       "      <th>ATHLETE</th>\n",
       "      <th>YEAR</th>\n",
       "      <th>TEAM</th>\n",
       "      <th>TIME</th>\n",
       "      <th>TIME_SECS</th>\n",
       "      <th>MARK</th>\n",
       "      <th>CONV</th>\n",
       "      <th>POINTS</th>\n",
       "      <th>MEET</th>\n",
       "      <th>MEET DATE</th>\n",
       "    </tr>\n",
       "  </thead>\n",
       "  <tbody>\n",
       "    <tr>\n",
       "      <th>0</th>\n",
       "      <td>1</td>\n",
       "      <td>2019</td>\n",
       "      <td>D1</td>\n",
       "      <td>100</td>\n",
       "      <td>Men</td>\n",
       "      <td>Oduduru, Divine</td>\n",
       "      <td>JR-3</td>\n",
       "      <td>Texas Tech</td>\n",
       "      <td>9:94</td>\n",
       "      <td>9.94</td>\n",
       "      <td>NaN</td>\n",
       "      <td>NaN</td>\n",
       "      <td>NaN</td>\n",
       "      <td>Michael Johnson Invitational</td>\n",
       "      <td>Apr 19, 2019</td>\n",
       "    </tr>\n",
       "    <tr>\n",
       "      <th>1</th>\n",
       "      <td>2</td>\n",
       "      <td>2019</td>\n",
       "      <td>D1</td>\n",
       "      <td>100</td>\n",
       "      <td>Men</td>\n",
       "      <td>Burke, Mario</td>\n",
       "      <td>SR-4</td>\n",
       "      <td>Houston</td>\n",
       "      <td>9:95</td>\n",
       "      <td>9.95</td>\n",
       "      <td>NaN</td>\n",
       "      <td>NaN</td>\n",
       "      <td>NaN</td>\n",
       "      <td>The American Outdoor Track &amp; Field Championships</td>\n",
       "      <td>May 10, 2019</td>\n",
       "    </tr>\n",
       "    <tr>\n",
       "      <th>2</th>\n",
       "      <td>3</td>\n",
       "      <td>2019</td>\n",
       "      <td>D1</td>\n",
       "      <td>100</td>\n",
       "      <td>Men</td>\n",
       "      <td>Gillespie, Cravon</td>\n",
       "      <td>SR-4</td>\n",
       "      <td>Oregon</td>\n",
       "      <td>9:97</td>\n",
       "      <td>9.97</td>\n",
       "      <td>NaN</td>\n",
       "      <td>NaN</td>\n",
       "      <td>NaN</td>\n",
       "      <td>2019 Pac-12 Track &amp; Field Championships</td>\n",
       "      <td>May 4, 2019</td>\n",
       "    </tr>\n",
       "    <tr>\n",
       "      <th>3</th>\n",
       "      <td>4</td>\n",
       "      <td>2019</td>\n",
       "      <td>D1</td>\n",
       "      <td>100</td>\n",
       "      <td>Men</td>\n",
       "      <td>Sani Brown, Hakim</td>\n",
       "      <td>SO-2</td>\n",
       "      <td>Florida</td>\n",
       "      <td>9:99</td>\n",
       "      <td>9.99</td>\n",
       "      <td>NaN</td>\n",
       "      <td>NaN</td>\n",
       "      <td>NaN</td>\n",
       "      <td>SEC Outdoor Track &amp; Field Championships</td>\n",
       "      <td>May 9, 2019</td>\n",
       "    </tr>\n",
       "    <tr>\n",
       "      <th>4</th>\n",
       "      <td>5</td>\n",
       "      <td>2019</td>\n",
       "      <td>D1</td>\n",
       "      <td>100</td>\n",
       "      <td>Men</td>\n",
       "      <td>Ekevwo, Raymond</td>\n",
       "      <td>JR-3</td>\n",
       "      <td>Florida</td>\n",
       "      <td>10:02</td>\n",
       "      <td>10.02</td>\n",
       "      <td>NaN</td>\n",
       "      <td>NaN</td>\n",
       "      <td>NaN</td>\n",
       "      <td>SEC Outdoor Track &amp; Field Championships</td>\n",
       "      <td>May 9, 2019</td>\n",
       "    </tr>\n",
       "  </tbody>\n",
       "</table>\n",
       "</div>"
      ],
      "text/plain": [
       "   POSITION CHAMP_YEAR DIVISION EVENT  SEX            ATHLETE  YEAR  \\\n",
       "0         1       2019       D1   100  Men    Oduduru, Divine  JR-3   \n",
       "1         2       2019       D1   100  Men       Burke, Mario  SR-4   \n",
       "2         3       2019       D1   100  Men  Gillespie, Cravon  SR-4   \n",
       "3         4       2019       D1   100  Men  Sani Brown, Hakim  SO-2   \n",
       "4         5       2019       D1   100  Men    Ekevwo, Raymond  JR-3   \n",
       "\n",
       "         TEAM   TIME  TIME_SECS MARK CONV  POINTS  \\\n",
       "0  Texas Tech   9:94       9.94  NaN  NaN     NaN   \n",
       "1     Houston   9:95       9.95  NaN  NaN     NaN   \n",
       "2      Oregon   9:97       9.97  NaN  NaN     NaN   \n",
       "3     Florida   9:99       9.99  NaN  NaN     NaN   \n",
       "4     Florida  10:02      10.02  NaN  NaN     NaN   \n",
       "\n",
       "                                               MEET     MEET DATE  \n",
       "0                      Michael Johnson Invitational  Apr 19, 2019  \n",
       "1  The American Outdoor Track & Field Championships  May 10, 2019  \n",
       "2           2019 Pac-12 Track & Field Championships   May 4, 2019  \n",
       "3           SEC Outdoor Track & Field Championships   May 9, 2019  \n",
       "4           SEC Outdoor Track & Field Championships   May 9, 2019  "
      ]
     },
     "execution_count": 30,
     "metadata": {},
     "output_type": "execute_result"
    }
   ],
   "source": [
    "d1_scraped.head()"
   ]
  },
  {
   "cell_type": "code",
   "execution_count": null,
   "metadata": {},
   "outputs": [],
   "source": []
  },
  {
   "cell_type": "markdown",
   "metadata": {},
   "source": [
    "### 1 URL AT A TIME"
   ]
  },
  {
   "cell_type": "code",
   "execution_count": null,
   "metadata": {},
   "outputs": [],
   "source": [
    "%%time\n",
    "# start with 2019 Outdoor D1\n",
    "d1_top100 = 'https://www.tfrrs.org/archived_lists/2568/2019_NCAA_Division_I_Outdoor_Qualifying_(FINAL)/2019/o'\n",
    "d1_top500 = 'https://www.tfrrs.org/lists/2568.html?limit=%3C%3D500&event_type=all&year=&gender=x'\n",
    "\n",
    "req = Request(d1_top100, headers={'User-Agent': 'Mozilla/5.0'})\n",
    "webpage = urlopen(req).read()\n",
    "soup = BeautifulSoup(webpage)\n",
    "dfs = pd.read_html(webpage)"
   ]
  },
  {
   "cell_type": "code",
   "execution_count": null,
   "metadata": {
    "scrolled": true
   },
   "outputs": [],
   "source": [
    "# create deep copy of dfs to work with\n",
    "dfs_copy = [i.copy(deep=True) for i in dfs]"
   ]
  },
  {
   "cell_type": "code",
   "execution_count": null,
   "metadata": {
    "scrolled": true
   },
   "outputs": [],
   "source": [
    "dfs_copy[0].head()"
   ]
  },
  {
   "cell_type": "code",
   "execution_count": null,
   "metadata": {},
   "outputs": [],
   "source": [
    "dfs_copy[13].head()"
   ]
  },
  {
   "cell_type": "code",
   "execution_count": null,
   "metadata": {},
   "outputs": [],
   "source": [
    "# add event, sex champ_year and division column to each dataframe in list of dataframes, add column for time converted to seconds\n",
    "\n",
    "def add_variables(df_list, division):\n",
    "    '''Take in list of dataframes, division(str), champ_year(str).  \n",
    "       Loop through list of data frames and add column for:\n",
    "       event, sex, division and championship year'''\n",
    "    \n",
    "    # event list (alternating sexes for each event)\n",
    "    events = ['100', '100', '200', '200', '400', '400', '800', '800', '1500', '1500', '5000', '5000', '10000', '10000', \n",
    "              '100H', '100H', '400H', '400H', '3000S', '3000S', '4x100', '4x100', '4x400', '4x400', \n",
    "              'HJ', 'HJ', 'PV', 'PV', 'LJ', 'LJ', 'TJ', 'TJ', 'SP', 'SP', 'DT', 'DT', 'HT', 'HT', 'JT', 'JT', \n",
    "              'Dec', 'Hep']\n",
    "    \n",
    "    \n",
    "    for i in range(len(df_list)):\n",
    "        df_list[i]['EVENT'] = events[i]\n",
    "        \n",
    "    # male recorded first in df for each event    \n",
    "    for i in range(len(df_list)):\n",
    "        if i%2 == 0:\n",
    "            df_list[i]['SEX'] = 'Male'\n",
    "        else:\n",
    "            df_list[i]['SEX'] = 'Female'\n",
    "            \n",
    "    for i in range(len(df_list)):\n",
    "        df_list[i]['DIVISION'] = division\n",
    "        \n",
    "    for i in range(len(df_list)):\n",
    "        df_list[i]['CHAMP_YEAR'] = [j[-4:] for j in dfs_copy[40]['MEET DATE']]\n",
    "        \n",
    "    # rename column to POSITION\n",
    "    for i in range(len(df_list)):\n",
    "        df_list[i].rename(columns={'Unnamed: 0' : 'POSITION'}, inplace=True)\n",
    "        \n",
    "    #CONVERT TIME TO TOTAL SECONDS            \n",
    "    \n",
    "    # reorder and drop columns\n",
    "    col_names = ['POSITION', 'CHAMP_YEAR', 'DIVISION', 'EVENT', 'SEX', 'ATHLETE', 'YEAR', 'TEAM', 'TIME', 'TIME_SECS', \n",
    "                 'MARK', 'CONV', 'POINTS', 'MEET', 'MEET DATE']\n",
    "    for i in range(len(df_list)):\n",
    "        df_list[i] = df_list[i].reindex(columns=col_names)"
   ]
  },
  {
   "cell_type": "markdown",
   "metadata": {},
   "source": [
    "### List of URLS for each Division I and Division II"
   ]
  },
  {
   "cell_type": "code",
   "execution_count": 34,
   "metadata": {},
   "outputs": [],
   "source": [
    "# list of urls for available years in each division\n",
    "D1_top100 = ['https://www.tfrrs.org/archived_lists/2568/2019_NCAA_Division_I_Outdoor_Qualifying_(FINAL)/2019/o',\n",
    " 'https://www.tfrrs.org/archived_lists/2279/2018_NCAA_Division_I_Outdoor_Qualifying_(FINAL)/2018/o',\n",
    " 'https://www.tfrrs.org/archived_lists/1912/2017_NCAA_Div._I_Outdoor_Qualifying_(FINAL)/2017/o',\n",
    " 'https://www.tfrrs.org/archived_lists/1688/2016_NCAA_Division_I_Outdoor_Qualifying_(FINAL)/2016/o',\n",
    " 'https://www.tfrrs.org/archived_lists/1439/2015_NCAA_Division_I_Outdoor_Qualifying_(FINAL)/2015/o',\n",
    " 'https://www.tfrrs.org/archived_lists/1228/2014_NCAA_Division_I_Outdoor_Qualifying_(FINAL)/2014/o',\n",
    " 'https://www.tfrrs.org/archived_lists/1029/2013_NCAA_Division_I_Outdoor_Qualifying_(FINAL)/2013/o',\n",
    " 'https://www.tfrrs.org/archived_lists/840/2012_NCAA_Div._I_Outdoor_Qualifiers_(Final)/2012/o',\n",
    " 'https://www.tfrrs.org/archived_lists/673/2011_NCAA_Division_I_Outdoor_POP_List_(FINAL)/2011/o',\n",
    " 'https://www.tfrrs.org/archived_lists/528/2010_NCAA_Division_I_Outdoor_POP_List_(FINAL)/2010/o']\n",
    "\n",
    "D2_top100 = ['https://www.tfrrs.org/archived_lists/2571/2019_NCAA_Div._II_Outdoor_Qualifying_(FINAL)/2019/o',\n",
    " 'https://www.tfrrs.org/lists/2282.html',\n",
    " 'https://www.tfrrs.org/lists/1913.html',\n",
    " 'https://www.tfrrs.org/lists/1685.html',\n",
    " 'https://www.tfrrs.org/lists/1442.html',\n",
    " 'https://www.tfrrs.org/lists/1231.html',\n",
    " 'https://www.tfrrs.org/lists/1032.html',\n",
    " 'https://www.tfrrs.org/lists/841.html',\n",
    " 'https://www.tfrrs.org/lists/674.html',\n",
    " 'https://www.tfrrs.org/lists/529.html']"
   ]
  },
  {
   "cell_type": "code",
   "execution_count": null,
   "metadata": {},
   "outputs": [],
   "source": [
    "%%time\n",
    "d1_scraped = "
   ]
  },
  {
   "cell_type": "code",
   "execution_count": null,
   "metadata": {},
   "outputs": [],
   "source": [
    "%%time\n",
    "d2_scraped = "
   ]
  },
  {
   "cell_type": "code",
   "execution_count": null,
   "metadata": {},
   "outputs": [],
   "source": []
  },
  {
   "cell_type": "code",
   "execution_count": null,
   "metadata": {},
   "outputs": [],
   "source": [
    "# graph some stuff\n",
    "import matplotlib.pyplot as plt\n",
    "from matplotlib import dates"
   ]
  },
  {
   "cell_type": "code",
   "execution_count": null,
   "metadata": {},
   "outputs": [],
   "source": []
  }
 ],
 "metadata": {
  "kernelspec": {
   "display_name": "Python 3",
   "language": "python",
   "name": "python3"
  },
  "language_info": {
   "codemirror_mode": {
    "name": "ipython",
    "version": 3
   },
   "file_extension": ".py",
   "mimetype": "text/x-python",
   "name": "python",
   "nbconvert_exporter": "python",
   "pygments_lexer": "ipython3",
   "version": "3.6.8"
  }
 },
 "nbformat": 4,
 "nbformat_minor": 2
}
