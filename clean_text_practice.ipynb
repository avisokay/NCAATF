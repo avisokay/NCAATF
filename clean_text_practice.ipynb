{
 "cells": [
  {
   "cell_type": "code",
   "execution_count": 330,
   "metadata": {
    "scrolled": true
   },
   "outputs": [
    {
     "data": {
      "text/plain": [
       "'This is my notepad full of text to sort and list as an alphabetical sort with count for each unique word. '"
      ]
     },
     "execution_count": 330,
     "metadata": {},
     "output_type": "execute_result"
    }
   ],
   "source": [
    "# read in text file as a string\n",
    "text = open('practice.txt', 'r').read()\n",
    "text"
   ]
  },
  {
   "cell_type": "code",
   "execution_count": 331,
   "metadata": {},
   "outputs": [],
   "source": [
    "# # drop punctuation and keep spaces\n",
    "# text = text.replace('--', ' ')\n",
    "# text = ''.join([letter for letter in text if letter.isalpha() or letter.isspace()])\n",
    "# text"
   ]
  },
  {
   "cell_type": "code",
   "execution_count": 332,
   "metadata": {
    "scrolled": true
   },
   "outputs": [],
   "source": [
    "# split string into list of lower case words\n",
    "words = [word.lower() for word in text.split()]"
   ]
  },
  {
   "cell_type": "code",
   "execution_count": 333,
   "metadata": {},
   "outputs": [],
   "source": [
    "# remove punctuation\n",
    "for word in words:\n",
    "    word = word.replace('_', '').replace('\"', '').replace(',', '').replace('.', '')\n",
    "    word = word.replace('-', '').replace('?', '').replace('!', '').replace(\"'\", \"\")\n",
    "    word = word.replace('(', '').replace(')', '').replace(':', '').replace('[', '')\n",
    "    word = word.replace(']', '').replace(';', '')"
   ]
  },
  {
   "cell_type": "code",
   "execution_count": 334,
   "metadata": {},
   "outputs": [],
   "source": [
    "# alphabetize\n",
    "words.sort()"
   ]
  },
  {
   "cell_type": "code",
   "execution_count": 335,
   "metadata": {},
   "outputs": [],
   "source": [
    "# final list of unique words and their count in alphabetical order\n",
    "results = {}\n",
    "for word in words:\n",
    "    if word in results:\n",
    "        results[word] = results[word] + 1\n",
    "    else:\n",
    "        results[word] = 1"
   ]
  },
  {
   "cell_type": "code",
   "execution_count": 336,
   "metadata": {},
   "outputs": [
    {
     "data": {
      "text/plain": [
       "{'alphabetical': 1,\n",
       " 'an': 1,\n",
       " 'and': 1,\n",
       " 'as': 1,\n",
       " 'count': 1,\n",
       " 'each': 1,\n",
       " 'for': 1,\n",
       " 'full': 1,\n",
       " 'is': 1,\n",
       " 'list': 1,\n",
       " 'my': 1,\n",
       " 'notepad': 1,\n",
       " 'of': 1,\n",
       " 'sort': 2,\n",
       " 'text': 1,\n",
       " 'this': 1,\n",
       " 'to': 1,\n",
       " 'unique': 1,\n",
       " 'with': 1,\n",
       " 'word.': 1}"
      ]
     },
     "execution_count": 336,
     "metadata": {},
     "output_type": "execute_result"
    }
   ],
   "source": [
    "results"
   ]
  },
  {
   "cell_type": "code",
   "execution_count": null,
   "metadata": {},
   "outputs": [],
   "source": []
  }
 ],
 "metadata": {
  "kernelspec": {
   "display_name": "Python 3",
   "language": "python",
   "name": "python3"
  },
  "language_info": {
   "codemirror_mode": {
    "name": "ipython",
    "version": 3
   },
   "file_extension": ".py",
   "mimetype": "text/x-python",
   "name": "python",
   "nbconvert_exporter": "python",
   "pygments_lexer": "ipython3",
   "version": "3.6.8"
  }
 },
 "nbformat": 4,
 "nbformat_minor": 2
}
